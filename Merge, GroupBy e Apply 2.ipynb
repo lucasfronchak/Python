{
 "cells": [
  {
   "cell_type": "code",
   "execution_count": 38,
   "id": "932a5af1",
   "metadata": {},
   "outputs": [
    {
     "name": "stdout",
     "output_type": "stream",
     "text": [
      "DataFrame 1:\n",
      "   id      nome  idade  salario\n",
      "0   1       Ana     25     3000\n",
      "1   2     Bruno     30     4500\n",
      "2   3    Carlos     22     2800\n",
      "3   4   Daniela     28     4000\n",
      "4   5   Eduardo     35     5200\n",
      "5   6  Fernanda     27     3900\n",
      "6   7   Gabriel     24     3100\n",
      "7   8    Helena     29     4100\n",
      "8   9      Igor     33     4700\n",
      "9  10   Juliana     31     4300\n",
      "\n",
      "DataFrame 2:\n",
      "   id          cidade estado\n",
      "0   3       São Paulo     SP\n",
      "1   4  Rio de Janeiro     RJ\n",
      "2   5  Belo Horizonte     MG\n",
      "3   6        Curitiba     PR\n",
      "4   7          Recife     PE\n",
      "5   8        Salvador     BA\n",
      "6   9    Porto Alegre     RS\n",
      "7  10       Fortaleza     CE\n",
      "8  11        Brasília     DF\n",
      "9  12          Manaus     AM\n"
     ]
    }
   ],
   "source": [
    "import pandas as pd\n",
    "\n",
    "# DataFrame 1 - Informações pessoais com salário\n",
    "df1 = pd.DataFrame({\n",
    "    'id': list(range(1, 11)),\n",
    "    'nome': ['Ana', 'Bruno', 'Carlos', 'Daniela', 'Eduardo', 'Fernanda', 'Gabriel', 'Helena', 'Igor', 'Juliana'],\n",
    "    'idade': [25, 30, 22, 28, 35, 27, 24, 29, 33, 31],\n",
    "    'salario': [3000, 4500, 2800, 4000, 5200, 3900, 3100, 4100, 4700, 4300]\n",
    "})\n",
    "\n",
    "# DataFrame 2 - Localização\n",
    "df2 = pd.DataFrame({\n",
    "    'id': [3, 4, 5, 6, 7, 8, 9, 10, 11, 12],\n",
    "    'cidade': ['São Paulo', 'Rio de Janeiro', 'Belo Horizonte', 'Curitiba', 'Recife',\n",
    "               'Salvador', 'Porto Alegre', 'Fortaleza', 'Brasília', 'Manaus'],\n",
    "    'estado': ['SP', 'RJ', 'MG', 'PR', 'PE', 'BA', 'RS', 'CE', 'DF', 'AM']\n",
    "})\n",
    "\n",
    "\n",
    "# Exibindo os DataFrames\n",
    "print(\"DataFrame 1:\")\n",
    "print(df1)\n",
    "print(\"\\nDataFrame 2:\")\n",
    "print(df2)\n"
   ]
  },
  {
   "cell_type": "code",
   "execution_count": 39,
   "id": "2df2af0d",
   "metadata": {},
   "outputs": [
    {
     "name": "stdout",
     "output_type": "stream",
     "text": [
      "   id      nome  idade  salario          cidade estado\n",
      "0   1       Ana     25     3000             NaN    NaN\n",
      "1   2     Bruno     30     4500             NaN    NaN\n",
      "2   3    Carlos     22     2800       São Paulo     SP\n",
      "3   4   Daniela     28     4000  Rio de Janeiro     RJ\n",
      "4   5   Eduardo     35     5200  Belo Horizonte     MG\n",
      "5   6  Fernanda     27     3900        Curitiba     PR\n",
      "6   7   Gabriel     24     3100          Recife     PE\n",
      "7   8    Helena     29     4100        Salvador     BA\n",
      "8   9      Igor     33     4700    Porto Alegre     RS\n",
      "9  10   Juliana     31     4300       Fortaleza     CE\n"
     ]
    }
   ],
   "source": [
    "df_merged = pd.merge(df1,df2, on='id' , how = 'left')\n",
    "print(df_merged)"
   ]
  },
  {
   "cell_type": "code",
   "execution_count": 40,
   "id": "8fc6d632",
   "metadata": {},
   "outputs": [
    {
     "name": "stdout",
     "output_type": "stream",
     "text": [
      "   id      nome  idade  salario          cidade estado faixa_idade\n",
      "0   1       Ana     25     3000             NaN    NaN    (19, 25]\n",
      "1   2     Bruno     30     4500             NaN    NaN    (25, 30]\n",
      "2   3    Carlos     22     2800       São Paulo     SP    (19, 25]\n",
      "3   4   Daniela     28     4000  Rio de Janeiro     RJ    (25, 30]\n",
      "4   5   Eduardo     35     5200  Belo Horizonte     MG    (30, 35]\n",
      "5   6  Fernanda     27     3900        Curitiba     PR    (25, 30]\n",
      "6   7   Gabriel     24     3100          Recife     PE    (19, 25]\n",
      "7   8    Helena     29     4100        Salvador     BA    (25, 30]\n",
      "8   9      Igor     33     4700    Porto Alegre     RS    (30, 35]\n",
      "9  10   Juliana     31     4300       Fortaleza     CE    (30, 35]\n"
     ]
    }
   ],
   "source": [
    "df_merged['faixa_idade'] = pd.cut(df_merged['idade'], bins=[19, 25, 30, 35,40,45])\n",
    "print(df_merged)\n"
   ]
  },
  {
   "cell_type": "code",
   "execution_count": 45,
   "id": "cf76348f",
   "metadata": {},
   "outputs": [
    {
     "name": "stdout",
     "output_type": "stream",
     "text": [
      "faixa_idade\n",
      "(19, 25]    3\n",
      "(25, 30]    4\n",
      "(30, 35]    3\n",
      "(35, 40]    0\n",
      "(40, 45]    0\n",
      "Name: idade, dtype: int64\n"
     ]
    },
    {
     "name": "stderr",
     "output_type": "stream",
     "text": [
      "C:\\Users\\Lucas\\AppData\\Local\\Temp\\ipykernel_16524\\2089401049.py:1: FutureWarning: The default of observed=False is deprecated and will be changed to True in a future version of pandas. Pass observed=False to retain current behavior or observed=True to adopt the future default and silence this warning.\n",
      "  y = df_merged.groupby('faixa_idade')['idade'].count()\n"
     ]
    }
   ],
   "source": [
    "y = df_merged.groupby('faixa_idade')['idade'].count()\n",
    "print(y)"
   ]
  },
  {
   "cell_type": "code",
   "execution_count": 47,
   "id": "0451583f",
   "metadata": {},
   "outputs": [
    {
     "name": "stdout",
     "output_type": "stream",
     "text": [
      "\n",
      "Salário com bônus:\n",
      "        nome  salario  salario_com_bonus\n",
      "0       Ana     3000             3300.0\n",
      "1     Bruno     4500             4950.0\n",
      "2    Carlos     2800             3080.0\n",
      "3   Daniela     4000             4400.0\n",
      "4   Eduardo     5200             5720.0\n",
      "5  Fernanda     3900             4290.0\n",
      "6   Gabriel     3100             3410.0\n",
      "7    Helena     4100             4510.0\n",
      "8      Igor     4700             5170.0\n",
      "9   Juliana     4300             4730.0\n"
     ]
    }
   ],
   "source": [
    "def bonus(salario):\n",
    "    return salario * 1.1\n",
    "\n",
    "df_merged['salario_com_bonus'] = df_merged['salario'].apply(bonus)\n",
    "\n",
    "print(\"\\nSalário com bônus:\\n\", df_merged[['nome', 'salario','salario_com_bonus']])"
   ]
  }
 ],
 "metadata": {
  "kernelspec": {
   "display_name": "venv",
   "language": "python",
   "name": "python3"
  },
  "language_info": {
   "codemirror_mode": {
    "name": "ipython",
    "version": 3
   },
   "file_extension": ".py",
   "mimetype": "text/x-python",
   "name": "python",
   "nbconvert_exporter": "python",
   "pygments_lexer": "ipython3",
   "version": "3.13.3"
  }
 },
 "nbformat": 4,
 "nbformat_minor": 5
}
