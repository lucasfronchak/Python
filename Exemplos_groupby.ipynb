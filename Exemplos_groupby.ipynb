{
 "cells": [
  {
   "cell_type": "code",
   "execution_count": 25,
   "id": "90391211",
   "metadata": {},
   "outputs": [
    {
     "name": "stdout",
     "output_type": "stream",
     "text": [
      "       idade           salario            \n",
      "        mean       std    mean   min   max\n",
      "estado                                    \n",
      "BA      27.0       NaN  3900.0  3900  3900\n",
      "MG      22.0       NaN  2800.0  2800  2800\n",
      "RJ      29.0  1.414214  4250.0  4000  4500\n",
      "RS      26.5  3.535534  3600.0  3100  4100\n",
      "SP      30.0  7.071068  4100.0  3000  5200\n"
     ]
    }
   ],
   "source": [
    "import pandas as pd\n",
    "\n",
    "# df_merged com dados fictícios\n",
    "df_merged = pd.DataFrame({\n",
    "    'id': range(1, 9),\n",
    "    'nome': ['Ana', 'Bruno', 'Carlos', 'Daniela', 'Eduardo', 'Fernanda', 'Gabriel', 'Helena'],\n",
    "    'idade': [25, 30, 22, 28, 35, 27, 24, 29],\n",
    "    'salario': [3000, 4500, 2800, 4000, 5200, 3900, 3100, 4100],\n",
    "    'cidade': ['SP', 'RJ', 'MG', 'RJ', 'SP', 'BA', 'RS', 'RS'],\n",
    "    'estado': ['SP', 'RJ', 'MG', 'RJ', 'SP', 'BA', 'RS', 'RS']\n",
    "})\n",
    "\n",
    "df_agg = df_merged.groupby('estado').agg({\n",
    "    'idade': ['mean', 'std'],\n",
    "    'salario': ['mean', 'min', 'max']\n",
    "})\n",
    "\n",
    "print(df_agg)\n",
    "# print('\\n')\n",
    "# agg_df['count'] = df_merged.groupby('estado').size()\n",
    "# print(agg_df)\n"
   ]
  },
  {
   "cell_type": "code",
   "execution_count": 24,
   "id": "3cfb9d28",
   "metadata": {},
   "outputs": [
    {
     "name": "stdout",
     "output_type": "stream",
     "text": [
      "   id      nome  idade  salario cidade estado  salario_medio_estado\n",
      "0   1       Ana     25     3000     SP     SP                4100.0\n",
      "1   2     Bruno     30     4500     RJ     RJ                4250.0\n",
      "2   3    Carlos     22     2800     MG     MG                2800.0\n",
      "3   4   Daniela     28     4000     RJ     RJ                4250.0\n",
      "4   5   Eduardo     35     5200     SP     SP                4100.0\n",
      "5   6  Fernanda     27     3900     BA     BA                3900.0\n",
      "6   7   Gabriel     24     3100     RS     RS                3600.0\n",
      "7   8    Helena     29     4100     RS     RS                3600.0\n",
      "\n",
      "\n",
      "0    0.731707\n",
      "1    1.058824\n",
      "2    1.000000\n",
      "3    0.941176\n",
      "4    1.268293\n",
      "5    1.000000\n",
      "6    0.861111\n",
      "7    1.138889\n",
      "Name: salario_relativo, dtype: float64\n"
     ]
    }
   ],
   "source": [
    "df_transform= df_merged.copy()\n",
    "df_transform['salario_medio_estado'] = df_transform.groupby('estado')['salario'].transform('mean')\n",
    "print(df_transform)\n",
    "df_transform['salario_relativo'] = df_transform['salario'] / df_transform['salario_medio_estado']\n",
    "print('\\n')\n",
    "print(df_transform['salario_relativo'])"
   ]
  },
  {
   "cell_type": "code",
   "execution_count": null,
   "id": "df941bcd",
   "metadata": {},
   "outputs": [
    {
     "name": "stdout",
     "output_type": "stream",
     "text": [
      "   id      nome  idade  salario cidade estado  salario_medio_estado\n",
      "0   1       Ana     25     3000     SP     SP                4100.0\n",
      "1   2     Bruno     30     4500     RJ     RJ                4250.0\n",
      "2   3    Carlos     22     2800     MG     MG                2800.0\n",
      "3   4   Daniela     28     4000     RJ     RJ                4250.0\n",
      "4   5   Eduardo     35     5200     SP     SP                4100.0\n",
      "5   6  Fernanda     27     3900     BA     BA                3900.0\n",
      "6   7   Gabriel     24     3100     RS     RS                3600.0\n",
      "7   8    Helena     29     4100     RS     RS                3600.0\n"
     ]
    },
    {
     "ename": "",
     "evalue": "",
     "output_type": "error",
     "traceback": [
      "\u001b[1;31mThe Kernel crashed while executing code in the current cell or a previous cell. \n",
      "\u001b[1;31mPlease review the code in the cell(s) to identify a possible cause of the failure. \n",
      "\u001b[1;31mClick <a href='https://aka.ms/vscodeJupyterKernelCrash'>here</a> for more info. \n",
      "\u001b[1;31mView Jupyter <a href='command:jupyter.viewOutput'>log</a> for further details."
     ]
    }
   ],
   "source": [
    "df_merged['salario_medio_estado'] = df_merged.groupby('estado')['salario'].transform('mean')\n",
    "print(df_merged)"
   ]
  }
 ],
 "metadata": {
  "kernelspec": {
   "display_name": "Python (venv)",
   "language": "python",
   "name": "venv"
  },
  "language_info": {
   "codemirror_mode": {
    "name": "ipython",
    "version": 3
   },
   "file_extension": ".py",
   "mimetype": "text/x-python",
   "name": "python",
   "nbconvert_exporter": "python",
   "pygments_lexer": "ipython3",
   "version": "3.13.3"
  }
 },
 "nbformat": 4,
 "nbformat_minor": 5
}
