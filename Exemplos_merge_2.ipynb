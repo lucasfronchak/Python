{
 "cells": [
  {
   "cell_type": "code",
   "execution_count": 21,
   "id": "7b5565e2",
   "metadata": {},
   "outputs": [],
   "source": [
    "import pandas as pd\n",
    "import random\n",
    "\n",
    "# Definir a semente para garantir que os dados gerados sejam sempre os mesmos\n",
    "random.seed(42)\n",
    "\n",
    "# Gerar DataFrame 1 - Informações pessoais\n",
    "df1 = pd.DataFrame({\n",
    "    'id': list(range(1, 101)),\n",
    "    'nome': [f'Nome_{i}' for i in range(1, 101)],\n",
    "    'idade': [random.randint(18, 60) for _ in range(100)]\n",
    "})\n",
    "\n",
    "# Gerar DataFrame 2 - Informações de localização\n",
    "estados = ['SP', 'RJ', 'MG', 'PR', 'PE', 'BA', 'RS', 'CE', 'DF', 'AM']\n",
    "cidades = ['São Paulo', 'Rio de Janeiro', 'Belo Horizonte', 'Curitiba', 'Recife',\n",
    "           'Salvador', 'Porto Alegre', 'Fortaleza', 'Brasília', 'Manaus']\n",
    "\n",
    "df2 = pd.DataFrame({\n",
    "    'Id': list(range(1, 101)),\n",
    "    'cidade': [random.choice(cidades) for _ in range(100)],\n",
    "    'estado': [random.choice(estados) for _ in range(100)],\n",
    "    'salario': [random.randint(2000, 10000) for _ in range(100)]\n",
    "})\n",
    "\n",
    "\n",
    "df_merged = pd.merge(df1, df2, left_on='id', right_on='Id', how='inner')\n",
    "soma_idade = df_merged['idade'].head(10).sum()\n",
    "media_idade = df_merged['idade'].head(10).mean()\n",
    "desviop_idade = df_merged['idade'].head(10).std()\n",
    "\n",
    "# print(f'Soma das idades: {soma_idade}')\n",
    "# print(f'Média das idades: {media_idade}')\n",
    "# print(f'Desvio padrão das idades: {desviop_idade}')\n",
    "# print(df_merged[['idade', 'estado']].head(10))\n",
    "\n",
    "\n",
    "# df_merged['media_idade_estado'] = df_merged.head(10).groupby('estado')['idade'].transform('mean')\n",
    "# print(df_merged[['media_idade_estado','estado']].head(10).drop_duplicates())"
   ]
  },
  {
   "cell_type": "code",
   "execution_count": 22,
   "id": "1cb5c88e",
   "metadata": {},
   "outputs": [],
   "source": [
    "soma_salario = df_merged['salario'].head(10).sum()\n",
    "media_salario = df_merged['salario'].head(10).mean()\n",
    "desviop_salario = df_merged['salario'].head(10).std()\n",
    "\n",
    "# print('soma dos salarios:',soma_salario)\n",
    "# print('media dos salarios:',media_salario)\n",
    "# print('desvio padrao dos salarios:',desviop_salario)\n",
    "# print(df_merged[['salario', 'estado']].head(10))\n",
    "\n",
    "# df_merged['media_salario_estado'] =  df_merged.head(10).groupby('estado')['salario'].transform('mean')\n",
    "# print(df_merged[['media_salario_estado','estado']].head(10).drop_duplicates())\n"
   ]
  },
  {
   "cell_type": "code",
   "execution_count": 26,
   "id": "fa6ef343",
   "metadata": {},
   "outputs": [
    {
     "name": "stdout",
     "output_type": "stream",
     "text": [
      "            idade                 salario            \n",
      "             mean        std         mean   min   max\n",
      "estado                                               \n",
      "AM      40.333333   9.309493  6076.833333  2876  9657\n",
      "BA      36.200000  14.060583  4513.600000  2325  7502\n",
      "CE      39.750000  14.039716  5756.333333  2600  9691\n",
      "DF      33.363636  10.911212  5384.727273  2563  9060\n",
      "MG      37.250000  14.704227  6165.500000  3667  9193\n",
      "PE      45.400000  11.502174  6379.600000  4166  9632\n",
      "PR      37.866667  12.861163  5478.133333  2945  9645\n",
      "RJ      34.083333  13.173378  6092.666667  2076  9610\n",
      "RS      36.727273  10.179302  6004.727273  2064  9665\n",
      "SP      38.866667  14.520265  6247.133333  2556  9713\n"
     ]
    }
   ],
   "source": [
    "df_agg = df_merged.groupby('estado').agg({\n",
    "    'idade': ['mean','std'],\n",
    "    'salario': ['mean','min','max']\n",
    "})\n",
    "print(df_agg)"
   ]
  },
  {
   "cell_type": "code",
   "execution_count": 28,
   "id": "ad45627d",
   "metadata": {},
   "outputs": [
    {
     "name": "stdout",
     "output_type": "stream",
     "text": [
      "       nome  idade  faixa_idade  salario\n",
      "8    Nome_9     52  Consultor 3     9713\n",
      "79  Nome_80     56       Master     9691\n",
      "40  Nome_41     24      treinee     9665\n",
      "23  Nome_24     52  Consultor 3     9657\n",
      "53  Nome_54     58       Master     9645\n",
      "..      ...    ...          ...      ...\n",
      "0    Nome_1     58       Master     2561\n",
      "2    Nome_3     19      treinee     2556\n",
      "14  Nome_15     23      treinee     2325\n",
      "42  Nome_43     40  Consultor 2     2076\n",
      "71  Nome_72     28  Consultor 1     2064\n",
      "\n",
      "[100 rows x 4 columns]\n"
     ]
    }
   ],
   "source": [
    "# Criar coluna faixa iadade\n",
    "df_merged['faixa_idade'] = pd.cut(df_merged['idade'], bins=[0, 25, 35, 45, 55, 65], labels=['treinee', 'Consultor 1', 'Consultor 2', 'Consultor 3', 'Master'])\n",
    "print(df_merged[['nome','idade','faixa_idade','salario']].nlargest(100, 'salario'))\n",
    "\n",
    "\n",
    "\n",
    "\n",
    "# MELHORAR e ENTENDER !!!!!!!!!\n"
   ]
  },
  {
   "cell_type": "code",
   "execution_count": null,
   "id": "cad12feb",
   "metadata": {},
   "outputs": [],
   "source": []
  }
 ],
 "metadata": {
  "kernelspec": {
   "display_name": "Python (venv)",
   "language": "python",
   "name": "venv"
  },
  "language_info": {
   "codemirror_mode": {
    "name": "ipython",
    "version": 3
   },
   "file_extension": ".py",
   "mimetype": "text/x-python",
   "name": "python",
   "nbconvert_exporter": "python",
   "pygments_lexer": "ipython3",
   "version": "3.13.3"
  }
 },
 "nbformat": 4,
 "nbformat_minor": 5
}
