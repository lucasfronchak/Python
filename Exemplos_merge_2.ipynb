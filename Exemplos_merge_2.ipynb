{
 "cells": [
  {
   "cell_type": "code",
   "execution_count": 82,
   "id": "7b5565e2",
   "metadata": {},
   "outputs": [
    {
     "name": "stdout",
     "output_type": "stream",
     "text": [
      "Soma das idades: 327\n",
      "Média das idades: 32.7\n",
      "Desvio padrão das idades: 12.824022596500505\n",
      "   idade estado\n",
      "0     58     RJ\n",
      "1     25     BA\n",
      "2     19     SP\n",
      "3     35     AM\n",
      "4     33     DF\n",
      "5     32     PR\n",
      "6     26     AM\n",
      "7     24     PR\n",
      "8     52     SP\n",
      "9     23     RJ\n",
      "   media_idade_estado estado\n",
      "0                40.5     RJ\n",
      "1                25.0     BA\n",
      "2                35.5     SP\n",
      "3                30.5     AM\n",
      "4                33.0     DF\n",
      "5                28.0     PR\n"
     ]
    }
   ],
   "source": [
    "import pandas as pd\n",
    "import random\n",
    "\n",
    "# Definir a semente para garantir que os dados gerados sejam sempre os mesmos\n",
    "random.seed(42)\n",
    "\n",
    "# Gerar DataFrame 1 - Informações pessoais\n",
    "df1 = pd.DataFrame({\n",
    "    'id': list(range(1, 101)),\n",
    "    'nome': [f'Nome_{i}' for i in range(1, 101)],\n",
    "    'idade': [random.randint(18, 60) for _ in range(100)]\n",
    "})\n",
    "\n",
    "# Gerar DataFrame 2 - Informações de localização\n",
    "estados = ['SP', 'RJ', 'MG', 'PR', 'PE', 'BA', 'RS', 'CE', 'DF', 'AM']\n",
    "cidades = ['São Paulo', 'Rio de Janeiro', 'Belo Horizonte', 'Curitiba', 'Recife',\n",
    "           'Salvador', 'Porto Alegre', 'Fortaleza', 'Brasília', 'Manaus']\n",
    "\n",
    "df2 = pd.DataFrame({\n",
    "    'Id': list(range(1, 101)),\n",
    "    'cidade': [random.choice(cidades) for _ in range(100)],\n",
    "    'estado': [random.choice(estados) for _ in range(100)],\n",
    "    'salario': [random.randint(2000, 10000) for _ in range(100)]\n",
    "})\n",
    "\n",
    "\n",
    "df_merged = pd.merge(df1, df2, left_on='id', right_on='Id', how='inner')\n",
    "soma_idade = df_merged['idade'].head(10).sum()\n",
    "media_idade = df_merged['idade'].head(10).mean()\n",
    "desviop_idade = df_merged['idade'].head(10).std()\n",
    "\n",
    "print(f'Soma das idades: {soma_idade}')\n",
    "print(f'Média das idades: {media_idade}')\n",
    "print(f'Desvio padrão das idades: {desviop_idade}')\n",
    "print(df_merged[['idade', 'estado']].head(10))\n",
    "\n",
    "\n",
    "df_merged['media_idade_estado'] = df_merged.head(10).groupby('estado')['idade'].transform('mean')\n",
    "print(df_merged[['media_idade_estado','estado']].head(10).drop_duplicates())"
   ]
  },
  {
   "cell_type": "code",
   "execution_count": 83,
   "id": "1cb5c88e",
   "metadata": {},
   "outputs": [
    {
     "name": "stdout",
     "output_type": "stream",
     "text": [
      "soma dos salarios: 59803\n",
      "media dos salarios: 5980.3\n",
      "desvio padrao dos salarios: 2880.503044415834\n",
      "   salario estado\n",
      "0     2561     RJ\n",
      "1     6874     BA\n",
      "2     2556     SP\n",
      "3     7531     AM\n",
      "4     9060     DF\n",
      "5     3926     PR\n",
      "6     5307     AM\n",
      "7     2982     PR\n",
      "8     9713     SP\n",
      "9     9293     RJ\n",
      "   media_salario_estado estado\n",
      "0                5927.0     RJ\n",
      "1                6874.0     BA\n",
      "2                6134.5     SP\n",
      "3                6419.0     AM\n",
      "4                9060.0     DF\n",
      "5                3454.0     PR\n"
     ]
    }
   ],
   "source": [
    "soma_salario = df_merged['salario'].head(10).sum()\n",
    "media_salario = df_merged['salario'].head(10).mean()\n",
    "desviop_salario = df_merged['salario'].head(10).std()\n",
    "\n",
    "print('soma dos salarios:',soma_salario)\n",
    "print('media dos salarios:',media_salario)\n",
    "print('desvio padrao dos salarios:',desviop_salario)\n",
    "print(df_merged[['salario', 'estado']].head(10))\n",
    "\n",
    "df_merged['media_salario_estado'] =  df_merged.head(10).groupby('estado')['salario'].transform('mean')\n",
    "print(df_merged[['media_salario_estado','estado']].head(10).drop_duplicates())\n"
   ]
  },
  {
   "cell_type": "code",
   "execution_count": 84,
   "id": "fa6ef343",
   "metadata": {},
   "outputs": [
    {
     "name": "stdout",
     "output_type": "stream",
     "text": [
      "       idade            salario            \n",
      "        mean        std    mean   min   max\n",
      "estado                                     \n",
      "AM      30.5   6.363961  6419.0  5307  7531\n",
      "BA      25.0        NaN  6874.0  6874  6874\n",
      "DF      33.0        NaN  9060.0  9060  9060\n",
      "PR      28.0   5.656854  3454.0  2982  3926\n",
      "RJ      40.5  24.748737  5927.0  2561  9293\n",
      "SP      35.5  23.334524  6134.5  2556  9713\n"
     ]
    }
   ],
   "source": [
    "df_agg = df_merged.head(10).groupby('estado').agg({\n",
    "    'idade': ['mean','std'],\n",
    "    'salario': ['mean','min','max']\n",
    "})\n",
    "print(df_agg)"
   ]
  },
  {
   "cell_type": "code",
   "execution_count": 92,
   "id": "ad45627d",
   "metadata": {},
   "outputs": [
    {
     "name": "stdout",
     "output_type": "stream",
     "text": [
      "50\n"
     ]
    },
    {
     "name": "stderr",
     "output_type": "stream",
     "text": [
      "C:\\Users\\Lucas\\AppData\\Local\\Temp\\ipykernel_11900\\2206480343.py:5: FutureWarning: The default of observed=False is deprecated and will be changed to True in a future version of pandas. Pass observed=False to retain current behavior or observed=True to adopt the future default and silence this warning.\n",
      "  df_bins = df_merged.groupby('faixa_idade')['idade'].head(10).count()\n"
     ]
    }
   ],
   "source": [
    "# Criar coluna faixa iadade\n",
    "df_merged['faixa_idade'] = pd.cut(df_merged['idade'], bins=[0, 25, 35, 45, 55, 65], labels=['0-25', '25-35', '35-45', '45-55', '55-65'])\n",
    "# print(df_merged.head(10))\n",
    "\n",
    "df_bins = df_merged.groupby('faixa_idade')['idade'].head(10).count()\n",
    "print(df_bins)\n"
   ]
  },
  {
   "cell_type": "code",
   "execution_count": null,
   "id": "cad12feb",
   "metadata": {},
   "outputs": [],
   "source": []
  }
 ],
 "metadata": {
  "kernelspec": {
   "display_name": "Python (venv)",
   "language": "python",
   "name": "venv"
  },
  "language_info": {
   "codemirror_mode": {
    "name": "ipython",
    "version": 3
   },
   "file_extension": ".py",
   "mimetype": "text/x-python",
   "name": "python",
   "nbconvert_exporter": "python",
   "pygments_lexer": "ipython3",
   "version": "3.13.3"
  }
 },
 "nbformat": 4,
 "nbformat_minor": 5
}
