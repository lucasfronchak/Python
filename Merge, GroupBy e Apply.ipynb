{
 "cells": [
  {
   "cell_type": "code",
   "execution_count": null,
   "id": "997490bb",
   "metadata": {},
   "outputs": [
    {
     "ename": "",
     "evalue": "",
     "output_type": "error",
     "traceback": [
      "\u001b[1;31mThe kernel failed to start as the Python Environment 'Python 3.12.1' is no longer available. Consider selecting another kernel or refreshing the list of Python Environments."
     ]
    }
   ],
   "source": [
    "import pandas as pd\n",
    "\n",
    "df1 = pd.DataFrame({\n",
    "    'Id':[1,2,3],\n",
    "    'Nome':[\"Lucas\",\"Roberto\",\"Maria\"],\n",
    "    'Idade':[20,20,50],\n",
    "    'Sexo':['M','M','F']\n",
    "})\n",
    "\n",
    "df2 = pd.DataFrame({\n",
    "    'Id':[2,3],\n",
    "    'Salario':[1000,2000],\n",
    "    'Cargo':['Analista','Gerente']\n",
    "})\n",
    "\n",
    "df3_inner = pd.merge(df1,df2, on='Id', how='inner')\n",
    "df3_left = pd.merge(df1,df2, on='Id', how='left')\n",
    "df3_right = pd.merge(df1,df2, on='Id', how='right')\n",
    "df3_outer = pd.merge(df1,df2, on='Id', how='outer')\n",
    "\n",
    "df_merged =df3_inner\n",
    "\n",
    "print('inner\\n',df3_inner,'\\n')\n",
    "# print('letf\\n',df3_left,'\\n')\n",
    "# print('right\\n',df3_right,'\\n')\n",
    "# print('outer\\n',df3_outer,'\\n')"
   ]
  },
  {
   "cell_type": "code",
   "execution_count": 2,
   "id": "a6763be9",
   "metadata": {},
   "outputs": [
    {
     "name": "stdout",
     "output_type": "stream",
     "text": [
      "\n",
      "GroupBy média salário por faixa etária:\n",
      " faixa_idade\n",
      "(19, 30]    1000.0\n",
      "(30, 40]       NaN\n",
      "(40, 50]    2000.0\n",
      "Name: Salario, dtype: float64\n"
     ]
    },
    {
     "name": "stderr",
     "output_type": "stream",
     "text": [
      "C:\\Users\\Lucas\\AppData\\Local\\Temp\\ipykernel_7568\\207510477.py:4: FutureWarning: The default of observed=False is deprecated and will be changed to True in a future version of pandas. Pass observed=False to retain current behavior or observed=True to adopt the future default and silence this warning.\n",
      "  grouped = df_merged.groupby('faixa_idade')['Salario'].mean()\n"
     ]
    }
   ],
   "source": [
    "# GroupBy - agrupar e calcular média de salário por faixa etária\n",
    "df_merged['faixa_idade'] = pd.cut(df_merged['Idade'], bins=[19, 30, 40, 50])\n",
    "\n",
    "grouped = df_merged.groupby('faixa_idade')['Salario'].mean()\n",
    "\n",
    "print(\"\\nGroupBy média salário por faixa etária:\\n\", grouped)"
   ]
  },
  {
   "cell_type": "code",
   "execution_count": 3,
   "id": "bedcc6e3",
   "metadata": {},
   "outputs": [
    {
     "name": "stdout",
     "output_type": "stream",
     "text": [
      "\n",
      "Salário com bônus:\n",
      "       Nome  Salario  salario_com_bonus\n",
      "0  Roberto     1000             1100.0\n",
      "1    Maria     2000             2200.0\n"
     ]
    }
   ],
   "source": [
    "# Apply - criar uma função para dar um bônus de 10% no salário\n",
    "def bonus(salario):\n",
    "    return salario * 1.1\n",
    "\n",
    "df_merged['salario_com_bonus'] = df_merged['Salario'].apply(bonus)\n",
    "\n",
    "print(\"\\nSalário com bônus:\\n\", df_merged[['Nome', 'Salario', 'salario_com_bonus']])"
   ]
  }
 ],
 "metadata": {
  "kernelspec": {
   "display_name": "Python (meu venv)",
   "language": "python",
   "name": "meu-venv"
  },
  "language_info": {
   "codemirror_mode": {
    "name": "ipython",
    "version": 3
   },
   "file_extension": ".py",
   "mimetype": "text/x-python",
   "name": "python",
   "nbconvert_exporter": "python",
   "pygments_lexer": "ipython3",
   "version": "3.12.1"
  }
 },
 "nbformat": 4,
 "nbformat_minor": 5
}
