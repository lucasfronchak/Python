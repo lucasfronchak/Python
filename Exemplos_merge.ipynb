{
 "cells": [
  {
   "cell_type": "code",
   "execution_count": 11,
   "id": "a7452ef9",
   "metadata": {},
   "outputs": [
    {
     "name": "stdout",
     "output_type": "stream",
     "text": [
      "   id   nome  id_cliente  valor\n",
      "0   1   João           1    100\n",
      "1   2  Maria           2    200\n"
     ]
    }
   ],
   "source": [
    "import pandas as pd\n",
    "\n",
    "clientes = pd.DataFrame({\n",
    "    'id': [1, 2, 3],\n",
    "    'nome': ['João', 'Maria', 'Pedro'],\n",
    "})\n",
    "\n",
    "compras = pd.DataFrame({\n",
    "    'id_cliente': [1, 2, 4],\n",
    "    'valor': [100, 200, 300],\n",
    "})\n",
    "\n",
    "df_merged = pd.merge(clientes, compras, left_on='id', right_on='id_cliente', how='inner')\n",
    "print(df_merged)"
   ]
  },
  {
   "cell_type": "code",
   "execution_count": 14,
   "id": "45642b06",
   "metadata": {},
   "outputs": [
    {
     "name": "stdout",
     "output_type": "stream",
     "text": [
      "   id_cliente        data produto  valor_pago\n",
      "0           1  2024-01-01       A         100\n",
      "1           2  2024-01-02       B         150\n"
     ]
    }
   ],
   "source": [
    "df_vendas = pd.DataFrame({\n",
    "    'id_cliente': [1, 2, 1],\n",
    "    'data': ['2024-01-01', '2024-01-02', '2024-01-03'],\n",
    "    'produto': ['A', 'B', 'C']\n",
    "})\n",
    "\n",
    "df_pagamentos = pd.DataFrame({\n",
    "    'id_cliente': [1, 2, 1],\n",
    "    'data': ['2024-01-01', '2024-01-02', '2024-01-04'],\n",
    "    'valor_pago': [100, 150, 200]\n",
    "})\n",
    "\n",
    "df_multi = pd.merge(df_vendas,df_pagamentos,how='inner', on=['id_cliente','data'])\n",
    "print(df_multi)"
   ]
  },
  {
   "cell_type": "code",
   "execution_count": 17,
   "id": "2721dcbf",
   "metadata": {},
   "outputs": [
    {
     "name": "stdout",
     "output_type": "stream",
     "text": [
      "       nome   status\n",
      "101   Alice      NaN\n",
      "102     Bob    ativo\n",
      "103  Carlos  inativo\n",
      "104     NaN    ativo\n"
     ]
    }
   ],
   "source": [
    "df_clientes = pd.DataFrame({\n",
    "    'nome': ['Alice', 'Bob', 'Carlos']\n",
    "}, index=[101, 102, 103])\n",
    "\n",
    "df_status = pd.DataFrame({\n",
    "    'status': ['ativo', 'inativo', 'ativo']\n",
    "}, index=[102, 103, 104])\n",
    "\n",
    "df_idx = pd.merge(df_clientes, df_status, left_index=True, right_index=True, how='outer')\n",
    "print(df_idx)"
   ]
  },
  {
   "cell_type": "code",
   "execution_count": null,
   "id": "e1dd89dc",
   "metadata": {},
   "outputs": [
    {
     "name": "stdout",
     "output_type": "stream",
     "text": [
      "   id  salario_2024  salario_2025\n",
      "0   1          3000          3200\n",
      "1   2          3500          3600\n"
     ]
    },
    {
     "ename": "",
     "evalue": "",
     "output_type": "error",
     "traceback": [
      "\u001b[1;31mThe Kernel crashed while executing code in the current cell or a previous cell. \n",
      "\u001b[1;31mPlease review the code in the cell(s) to identify a possible cause of the failure. \n",
      "\u001b[1;31mClick <a href='https://aka.ms/vscodeJupyterKernelCrash'>here</a> for more info. \n",
      "\u001b[1;31mView Jupyter <a href='command:jupyter.viewOutput'>log</a> for further details."
     ]
    }
   ],
   "source": [
    "df_empregados_2024 = pd.DataFrame({\n",
    "    'id': [1, 2],\n",
    "    'salario': [3000, 3500]\n",
    "})\n",
    "\n",
    "df_empregados_2025 = pd.DataFrame({\n",
    "    'id': [1, 2],\n",
    "    'salario': [3200, 3600]\n",
    "})\n",
    "\n",
    "df_salarios = pd.merge(df_empregados_2024, df_empregados_2025, on='id', suffixes=('_2024', '_2025'))\n",
    "print(df_salarios)\n"
   ]
  },
  {
   "cell_type": "code",
   "execution_count": null,
   "id": "9e0644f7",
   "metadata": {},
   "outputs": [],
   "source": []
  }
 ],
 "metadata": {
  "kernelspec": {
   "display_name": "Python (venv)",
   "language": "python",
   "name": "venv"
  },
  "language_info": {
   "codemirror_mode": {
    "name": "ipython",
    "version": 3
   },
   "file_extension": ".py",
   "mimetype": "text/x-python",
   "name": "python",
   "nbconvert_exporter": "python",
   "pygments_lexer": "ipython3",
   "version": "3.13.3"
  }
 },
 "nbformat": 4,
 "nbformat_minor": 5
}
